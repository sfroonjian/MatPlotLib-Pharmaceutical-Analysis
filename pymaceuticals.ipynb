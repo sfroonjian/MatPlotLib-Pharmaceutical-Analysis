{
 "cells": [
  {
   "cell_type": "markdown",
   "metadata": {},
   "source": [
    "## Observations and Insights"
   ]
  },
  {
   "cell_type": "markdown",
   "metadata": {},
   "source": [
    "### Observations and inferences that can be made from the data:\n",
    "#####   1. There is a strong positive correlation between mouse weight and tumor volume. As the mouse weight increases, the tumor volume, on average, also increases.\n",
    "#####   2. The fact that there is a positive correlation between mouse weight and tumor volume means there were two variables that could affect tumor size- weight and drug regimen. This means the results of this study can be skewed.\n",
    "#####   3. Ramicane\thad the lowest final average tumor volume volume (36.19 mm3), with Capomulin a close second (36.67 mm3). Both of these drugs also had the two greatest sample sizes. Capomulin had the most amount of samples (230), and Ramicane had the second most (228). \n",
    "#####   4. Because Ramicane and Capomulin both have the lowest final average tumor volumes and the greatest sample sizes, they are the two most promising drug regimens.\n",
    "#####   5. Almost every drug regimen had a different sample size. The difference between the greatest sample size (Capomulin) and the smallest (Propriva) was 69 data points. "
   ]
  },
  {
   "cell_type": "markdown",
   "metadata": {},
   "source": [
    "## Dependencies and starter code"
   ]
  },
  {
   "cell_type": "code",
   "execution_count": 2,
   "metadata": {},
   "outputs": [
    {
     "data": {
      "text/html": [
       "<div>\n",
       "<style scoped>\n",
       "    .dataframe tbody tr th:only-of-type {\n",
       "        vertical-align: middle;\n",
       "    }\n",
       "\n",
       "    .dataframe tbody tr th {\n",
       "        vertical-align: top;\n",
       "    }\n",
       "\n",
       "    .dataframe thead th {\n",
       "        text-align: right;\n",
       "    }\n",
       "</style>\n",
       "<table border=\"1\" class=\"dataframe\">\n",
       "  <thead>\n",
       "    <tr style=\"text-align: right;\">\n",
       "      <th></th>\n",
       "      <th>Mouse ID</th>\n",
       "      <th>Drug Regimen</th>\n",
       "      <th>Sex</th>\n",
       "      <th>Age_months</th>\n",
       "      <th>Weight (g)</th>\n",
       "      <th>Timepoint</th>\n",
       "      <th>Tumor Volume (mm3)</th>\n",
       "      <th>Metastatic Sites</th>\n",
       "    </tr>\n",
       "  </thead>\n",
       "  <tbody>\n",
       "    <tr>\n",
       "      <th>0</th>\n",
       "      <td>k403</td>\n",
       "      <td>Ramicane</td>\n",
       "      <td>Male</td>\n",
       "      <td>21</td>\n",
       "      <td>16</td>\n",
       "      <td>0</td>\n",
       "      <td>45.000000</td>\n",
       "      <td>0</td>\n",
       "    </tr>\n",
       "    <tr>\n",
       "      <th>1</th>\n",
       "      <td>k403</td>\n",
       "      <td>Ramicane</td>\n",
       "      <td>Male</td>\n",
       "      <td>21</td>\n",
       "      <td>16</td>\n",
       "      <td>5</td>\n",
       "      <td>38.825898</td>\n",
       "      <td>0</td>\n",
       "    </tr>\n",
       "    <tr>\n",
       "      <th>2</th>\n",
       "      <td>k403</td>\n",
       "      <td>Ramicane</td>\n",
       "      <td>Male</td>\n",
       "      <td>21</td>\n",
       "      <td>16</td>\n",
       "      <td>10</td>\n",
       "      <td>35.014271</td>\n",
       "      <td>1</td>\n",
       "    </tr>\n",
       "    <tr>\n",
       "      <th>3</th>\n",
       "      <td>k403</td>\n",
       "      <td>Ramicane</td>\n",
       "      <td>Male</td>\n",
       "      <td>21</td>\n",
       "      <td>16</td>\n",
       "      <td>15</td>\n",
       "      <td>34.223992</td>\n",
       "      <td>1</td>\n",
       "    </tr>\n",
       "    <tr>\n",
       "      <th>4</th>\n",
       "      <td>k403</td>\n",
       "      <td>Ramicane</td>\n",
       "      <td>Male</td>\n",
       "      <td>21</td>\n",
       "      <td>16</td>\n",
       "      <td>20</td>\n",
       "      <td>32.997729</td>\n",
       "      <td>1</td>\n",
       "    </tr>\n",
       "    <tr>\n",
       "      <th>...</th>\n",
       "      <td>...</td>\n",
       "      <td>...</td>\n",
       "      <td>...</td>\n",
       "      <td>...</td>\n",
       "      <td>...</td>\n",
       "      <td>...</td>\n",
       "      <td>...</td>\n",
       "      <td>...</td>\n",
       "    </tr>\n",
       "    <tr>\n",
       "      <th>1888</th>\n",
       "      <td>z969</td>\n",
       "      <td>Naftisol</td>\n",
       "      <td>Male</td>\n",
       "      <td>9</td>\n",
       "      <td>30</td>\n",
       "      <td>25</td>\n",
       "      <td>63.145652</td>\n",
       "      <td>2</td>\n",
       "    </tr>\n",
       "    <tr>\n",
       "      <th>1889</th>\n",
       "      <td>z969</td>\n",
       "      <td>Naftisol</td>\n",
       "      <td>Male</td>\n",
       "      <td>9</td>\n",
       "      <td>30</td>\n",
       "      <td>30</td>\n",
       "      <td>65.841013</td>\n",
       "      <td>3</td>\n",
       "    </tr>\n",
       "    <tr>\n",
       "      <th>1890</th>\n",
       "      <td>z969</td>\n",
       "      <td>Naftisol</td>\n",
       "      <td>Male</td>\n",
       "      <td>9</td>\n",
       "      <td>30</td>\n",
       "      <td>35</td>\n",
       "      <td>69.176246</td>\n",
       "      <td>4</td>\n",
       "    </tr>\n",
       "    <tr>\n",
       "      <th>1891</th>\n",
       "      <td>z969</td>\n",
       "      <td>Naftisol</td>\n",
       "      <td>Male</td>\n",
       "      <td>9</td>\n",
       "      <td>30</td>\n",
       "      <td>40</td>\n",
       "      <td>70.314904</td>\n",
       "      <td>4</td>\n",
       "    </tr>\n",
       "    <tr>\n",
       "      <th>1892</th>\n",
       "      <td>z969</td>\n",
       "      <td>Naftisol</td>\n",
       "      <td>Male</td>\n",
       "      <td>9</td>\n",
       "      <td>30</td>\n",
       "      <td>45</td>\n",
       "      <td>73.867845</td>\n",
       "      <td>4</td>\n",
       "    </tr>\n",
       "  </tbody>\n",
       "</table>\n",
       "<p>1893 rows × 8 columns</p>\n",
       "</div>"
      ],
      "text/plain": [
       "     Mouse ID Drug Regimen   Sex  Age_months  Weight (g)  Timepoint  \\\n",
       "0        k403     Ramicane  Male          21          16          0   \n",
       "1        k403     Ramicane  Male          21          16          5   \n",
       "2        k403     Ramicane  Male          21          16         10   \n",
       "3        k403     Ramicane  Male          21          16         15   \n",
       "4        k403     Ramicane  Male          21          16         20   \n",
       "...       ...          ...   ...         ...         ...        ...   \n",
       "1888     z969     Naftisol  Male           9          30         25   \n",
       "1889     z969     Naftisol  Male           9          30         30   \n",
       "1890     z969     Naftisol  Male           9          30         35   \n",
       "1891     z969     Naftisol  Male           9          30         40   \n",
       "1892     z969     Naftisol  Male           9          30         45   \n",
       "\n",
       "      Tumor Volume (mm3)  Metastatic Sites  \n",
       "0              45.000000                 0  \n",
       "1              38.825898                 0  \n",
       "2              35.014271                 1  \n",
       "3              34.223992                 1  \n",
       "4              32.997729                 1  \n",
       "...                  ...               ...  \n",
       "1888           63.145652                 2  \n",
       "1889           65.841013                 3  \n",
       "1890           69.176246                 4  \n",
       "1891           70.314904                 4  \n",
       "1892           73.867845                 4  \n",
       "\n",
       "[1893 rows x 8 columns]"
      ]
     },
     "execution_count": 2,
     "metadata": {},
     "output_type": "execute_result"
    }
   ],
   "source": [
    "# Dependencies and Setup\n",
    "import matplotlib.pyplot as plt\n",
    "import pandas as pd\n",
    "import scipy.stats as st\n",
    "from scipy.stats import linregress\n",
    "import numpy as np\n",
    "from sklearn import datasets\n",
    "\n",
    "# Study data files\n",
    "mouse_metadata = \"Mouse_metadata.csv\"\n",
    "study_results = \"Study_results.csv\"\n",
    "\n",
    "# Read the mouse data and the study results\n",
    "mouse_metadata = pd.read_csv(mouse_metadata)\n",
    "study_results = pd.read_csv(study_results)\n",
    "\n",
    "# Combine the data into a single dataset\n",
    "combined_df = pd.merge(mouse_metadata, study_results, on=\"Mouse ID\")\n",
    "combined_df"
   ]
  },
  {
   "cell_type": "markdown",
   "metadata": {},
   "source": [
    "## Summary statistics"
   ]
  },
  {
   "cell_type": "code",
   "execution_count": 3,
   "metadata": {},
   "outputs": [
    {
     "data": {
      "text/html": [
       "<div>\n",
       "<style scoped>\n",
       "    .dataframe tbody tr th:only-of-type {\n",
       "        vertical-align: middle;\n",
       "    }\n",
       "\n",
       "    .dataframe tbody tr th {\n",
       "        vertical-align: top;\n",
       "    }\n",
       "\n",
       "    .dataframe thead th {\n",
       "        text-align: right;\n",
       "    }\n",
       "</style>\n",
       "<table border=\"1\" class=\"dataframe\">\n",
       "  <thead>\n",
       "    <tr style=\"text-align: right;\">\n",
       "      <th></th>\n",
       "      <th>Tumor Volume (mm3) Mean</th>\n",
       "      <th>Tumor Volume (mm3) Median</th>\n",
       "      <th>Tumor Volume (mm3) Variance</th>\n",
       "      <th>Tumor Volume (mm3) Standard Deviation</th>\n",
       "      <th>Tumor Volume (mm3) SEM</th>\n",
       "    </tr>\n",
       "    <tr>\n",
       "      <th>Drug Regimen</th>\n",
       "      <th></th>\n",
       "      <th></th>\n",
       "      <th></th>\n",
       "      <th></th>\n",
       "      <th></th>\n",
       "    </tr>\n",
       "  </thead>\n",
       "  <tbody>\n",
       "    <tr>\n",
       "      <th>Capomulin</th>\n",
       "      <td>40.675741</td>\n",
       "      <td>41.557809</td>\n",
       "      <td>24.947764</td>\n",
       "      <td>4.994774</td>\n",
       "      <td>0.329346</td>\n",
       "    </tr>\n",
       "    <tr>\n",
       "      <th>Ceftamin</th>\n",
       "      <td>52.591172</td>\n",
       "      <td>51.776157</td>\n",
       "      <td>39.290177</td>\n",
       "      <td>6.268188</td>\n",
       "      <td>0.469821</td>\n",
       "    </tr>\n",
       "    <tr>\n",
       "      <th>Infubinol</th>\n",
       "      <td>52.884795</td>\n",
       "      <td>51.820584</td>\n",
       "      <td>43.128684</td>\n",
       "      <td>6.567243</td>\n",
       "      <td>0.492236</td>\n",
       "    </tr>\n",
       "    <tr>\n",
       "      <th>Ketapril</th>\n",
       "      <td>55.235638</td>\n",
       "      <td>53.698743</td>\n",
       "      <td>68.553577</td>\n",
       "      <td>8.279709</td>\n",
       "      <td>0.603860</td>\n",
       "    </tr>\n",
       "    <tr>\n",
       "      <th>Naftisol</th>\n",
       "      <td>54.331565</td>\n",
       "      <td>52.509285</td>\n",
       "      <td>66.173479</td>\n",
       "      <td>8.134708</td>\n",
       "      <td>0.596466</td>\n",
       "    </tr>\n",
       "    <tr>\n",
       "      <th>Placebo</th>\n",
       "      <td>54.033581</td>\n",
       "      <td>52.288934</td>\n",
       "      <td>61.168083</td>\n",
       "      <td>7.821003</td>\n",
       "      <td>0.581331</td>\n",
       "    </tr>\n",
       "    <tr>\n",
       "      <th>Propriva</th>\n",
       "      <td>52.322552</td>\n",
       "      <td>50.854632</td>\n",
       "      <td>42.351070</td>\n",
       "      <td>6.507770</td>\n",
       "      <td>0.512884</td>\n",
       "    </tr>\n",
       "    <tr>\n",
       "      <th>Ramicane</th>\n",
       "      <td>40.216745</td>\n",
       "      <td>40.673236</td>\n",
       "      <td>23.486704</td>\n",
       "      <td>4.846308</td>\n",
       "      <td>0.320955</td>\n",
       "    </tr>\n",
       "    <tr>\n",
       "      <th>Stelasyn</th>\n",
       "      <td>54.233149</td>\n",
       "      <td>52.431737</td>\n",
       "      <td>59.450562</td>\n",
       "      <td>7.710419</td>\n",
       "      <td>0.573111</td>\n",
       "    </tr>\n",
       "    <tr>\n",
       "      <th>Zoniferol</th>\n",
       "      <td>53.236507</td>\n",
       "      <td>51.818479</td>\n",
       "      <td>48.533355</td>\n",
       "      <td>6.966589</td>\n",
       "      <td>0.516398</td>\n",
       "    </tr>\n",
       "  </tbody>\n",
       "</table>\n",
       "</div>"
      ],
      "text/plain": [
       "              Tumor Volume (mm3) Mean  Tumor Volume (mm3) Median  \\\n",
       "Drug Regimen                                                       \n",
       "Capomulin                   40.675741                  41.557809   \n",
       "Ceftamin                    52.591172                  51.776157   \n",
       "Infubinol                   52.884795                  51.820584   \n",
       "Ketapril                    55.235638                  53.698743   \n",
       "Naftisol                    54.331565                  52.509285   \n",
       "Placebo                     54.033581                  52.288934   \n",
       "Propriva                    52.322552                  50.854632   \n",
       "Ramicane                    40.216745                  40.673236   \n",
       "Stelasyn                    54.233149                  52.431737   \n",
       "Zoniferol                   53.236507                  51.818479   \n",
       "\n",
       "              Tumor Volume (mm3) Variance  \\\n",
       "Drug Regimen                                \n",
       "Capomulin                       24.947764   \n",
       "Ceftamin                        39.290177   \n",
       "Infubinol                       43.128684   \n",
       "Ketapril                        68.553577   \n",
       "Naftisol                        66.173479   \n",
       "Placebo                         61.168083   \n",
       "Propriva                        42.351070   \n",
       "Ramicane                        23.486704   \n",
       "Stelasyn                        59.450562   \n",
       "Zoniferol                       48.533355   \n",
       "\n",
       "              Tumor Volume (mm3) Standard Deviation  Tumor Volume (mm3) SEM  \n",
       "Drug Regimen                                                                 \n",
       "Capomulin                                  4.994774                0.329346  \n",
       "Ceftamin                                   6.268188                0.469821  \n",
       "Infubinol                                  6.567243                0.492236  \n",
       "Ketapril                                   8.279709                0.603860  \n",
       "Naftisol                                   8.134708                0.596466  \n",
       "Placebo                                    7.821003                0.581331  \n",
       "Propriva                                   6.507770                0.512884  \n",
       "Ramicane                                   4.846308                0.320955  \n",
       "Stelasyn                                   7.710419                0.573111  \n",
       "Zoniferol                                  6.966589                0.516398  "
      ]
     },
     "execution_count": 3,
     "metadata": {},
     "output_type": "execute_result"
    }
   ],
   "source": [
    "# Generate a summary statistics table of mean, median, variance, standard deviation, and SEM of the tumor volume for each regimen\n",
    "\n",
    "# group by drug regimen\n",
    "grouped = combined_df.groupby([\"Drug Regimen\"])\n",
    "# find the mean tumor volume of each drug\n",
    "tumor_mean = grouped[\"Tumor Volume (mm3)\"].mean()\n",
    "# find the median tumor volume of each drug\n",
    "tumor_median = grouped[\"Tumor Volume (mm3)\"].median()\n",
    "# find the variance of tumor volume of each drug\n",
    "tumor_variance = grouped[\"Tumor Volume (mm3)\"].var()\n",
    "# find the standard deviation of tumor volume\n",
    "tumor_std = grouped[\"Tumor Volume (mm3)\"].std()\n",
    "# find the SEM of tumor volume of each drug\n",
    "tumor_sem = grouped[\"Tumor Volume (mm3)\"].sem()\n",
    "\n",
    "# place all data above into a data frame\n",
    "summary_statistics_df = pd.DataFrame({\"Tumor Volume (mm3) Mean\": tumor_mean,\n",
    "                                     \"Tumor Volume (mm3) Median\": tumor_median,\n",
    "                                     \"Tumor Volume (mm3) Variance\": tumor_variance,\n",
    "                                     \"Tumor Volume (mm3) Standard Deviation\": tumor_std,\n",
    "                                     \"Tumor Volume (mm3) SEM\": tumor_sem})\n",
    "summary_statistics_df\n"
   ]
  },
  {
   "cell_type": "markdown",
   "metadata": {},
   "source": [
    "## Bar plots"
   ]
  },
  {
   "cell_type": "code",
   "execution_count": 39,
   "metadata": {
    "scrolled": false
   },
   "outputs": [
    {
     "data": {
      "text/plain": [
       "Drug Regimen\n",
       "Capomulin    230\n",
       "Ceftamin     178\n",
       "Infubinol    178\n",
       "Ketapril     188\n",
       "Naftisol     186\n",
       "Placebo      181\n",
       "Propriva     161\n",
       "Ramicane     228\n",
       "Stelasyn     181\n",
       "Zoniferol    182\n",
       "Name: Mouse ID, dtype: int64"
      ]
     },
     "execution_count": 39,
     "metadata": {},
     "output_type": "execute_result"
    }
   ],
   "source": [
    "# Generate a bar plot showing number of data points for each treatment regimen using pandas\n",
    "\n",
    "# group by drug regimen\n",
    "grouped_drug = combined_df.groupby([\"Drug Regimen\"])\n",
    "# count how many data points there are for each drug\n",
    "treatment_count = grouped_drug[\"Mouse ID\"].count()\n",
    "treatment_count\n"
   ]
  },
  {
   "cell_type": "code",
   "execution_count": 38,
   "metadata": {},
   "outputs": [
    {
     "data": {
      "text/plain": [
       "Text(0, 0.5, 'Number of Data Points')"
      ]
     },
     "execution_count": 38,
     "metadata": {},
     "output_type": "execute_result"
    },
    {
     "data": {
      "image/png": "[encoded data removed]",
      "text/plain": [
       "<Figure size 432x288 with 1 Axes>"
      ]
     },
     "metadata": {
      "needs_background": "light"
     },
     "output_type": "display_data"
    }
   ],
   "source": [
    "# plots bar graph of above data\n",
    "treatment_bar = treatment_count.plot(kind=\"bar\", title=\"Amount of Data Points for Each Drug Regimen\", xlim=(-1,10),  ylim=(0,250))\n",
    "# sets y-axis label\n",
    "treatment_bar.set_ylabel(\"Number of Data Points\")"
   ]
  },
  {
   "cell_type": "code",
   "execution_count": 5,
   "metadata": {},
   "outputs": [
    {
     "data": {
      "image/png": "[encoded data removed]",
      "text/plain": [
       "<Figure size 432x288 with 1 Axes>"
      ]
     },
     "metadata": {
      "needs_background": "light"
     },
     "output_type": "display_data"
    }
   ],
   "source": [
    "# Generate a bar plot showing number of data points for each treatment regimen using pyplot\n",
    "\n",
    "# plot bar graph of data is previous cell\n",
    "plt.bar(treatment_count.index, treatment_count)\n",
    "# makes x-ticks vertical\n",
    "plt.xticks(rotation=90)\n",
    "# sets range for x-axis\n",
    "plt.xlim(-1, 10)\n",
    "# sets range for y-axis\n",
    "plt.ylim(0, 250)\n",
    "# sets label for x-axis\n",
    "plt.xlabel(\"Drug Regimen\")\n",
    "# sets label for y-axis\n",
    "plt.ylabel(\"Number of Data Points\")\n",
    "# sets title\n",
    "plt.title(\"Amount of Data Points for Each Drug Regimen\")\n",
    "plt.show()\n"
   ]
  },
  {
   "cell_type": "markdown",
   "metadata": {},
   "source": [
    "## Pie plots"
   ]
  },
  {
   "cell_type": "code",
   "execution_count": 6,
   "metadata": {},
   "outputs": [
    {
     "data": {
      "text/plain": [
       "Text(0, 0.5, '')"
      ]
     },
     "execution_count": 6,
     "metadata": {},
     "output_type": "execute_result"
    },
    {
     "data": {
      "image/png": "[encoded data removed]",
      "text/plain": [
       "<Figure size 432x288 with 1 Axes>"
      ]
     },
     "metadata": {},
     "output_type": "display_data"
    }
   ],
   "source": [
    "# Generate a pie plot showing the distribution of female versus male mice using pandas\n",
    "\n",
    "# group data by gender\n",
    "grouped_gender = combined_df.groupby([\"Sex\"])\n",
    "# counts how many of each gender is present\n",
    "gender_count = grouped_gender[\"Mouse ID\"].count()\n",
    "\n",
    "# plots pie chart of above data\n",
    "gender_pie = gender_count.plot(kind=\"pie\", title=\"Mice Gender Distribution\", autopct=\"%1.1f%%\", startangle=90)\n",
    "# sets y-axis label\n",
    "gender_pie.set_ylabel(\"\")\n"
   ]
  },
  {
   "cell_type": "code",
   "execution_count": 7,
   "metadata": {},
   "outputs": [
    {
     "data": {
      "image/png": "[encoded data removed]",
      "text/plain": [
       "<Figure size 432x288 with 1 Axes>"
      ]
     },
     "metadata": {},
     "output_type": "display_data"
    }
   ],
   "source": [
    "# Generate a pie plot showing the distribution of female versus male mice using pyplot\n",
    "\n",
    "# plots pie chart of data in previous cell\n",
    "plt.pie(gender_count, labels=gender_count.index,autopct=\"%1.1f%%\", shadow=True, startangle=90)\n",
    "# sets title\n",
    "plt.title(\"Mice Gender Distribution\")\n",
    "plt.show()\n"
   ]
  },
  {
   "cell_type": "markdown",
   "metadata": {},
   "source": [
    "## Quartiles, outliers and boxplots"
   ]
  },
  {
   "cell_type": "code",
   "execution_count": 37,
   "metadata": {
    "scrolled": false
   },
   "outputs": [
    {
     "data": {
      "text/html": [
       "<div>\n",
       "<style scoped>\n",
       "    .dataframe tbody tr th:only-of-type {\n",
       "        vertical-align: middle;\n",
       "    }\n",
       "\n",
       "    .dataframe tbody tr th {\n",
       "        vertical-align: top;\n",
       "    }\n",
       "\n",
       "    .dataframe thead th {\n",
       "        text-align: right;\n",
       "    }\n",
       "</style>\n",
       "<table border=\"1\" class=\"dataframe\">\n",
       "  <thead>\n",
       "    <tr style=\"text-align: right;\">\n",
       "      <th></th>\n",
       "      <th>Timepoint</th>\n",
       "      <th>Age_months</th>\n",
       "      <th>Weight (g)</th>\n",
       "      <th>Tumor Volume (mm3)</th>\n",
       "      <th>Metastatic Sites</th>\n",
       "    </tr>\n",
       "    <tr>\n",
       "      <th>Drug Regimen</th>\n",
       "      <th></th>\n",
       "      <th></th>\n",
       "      <th></th>\n",
       "      <th></th>\n",
       "      <th></th>\n",
       "    </tr>\n",
       "  </thead>\n",
       "  <tbody>\n",
       "    <tr>\n",
       "      <th>Capomulin</th>\n",
       "      <td>41.000000</td>\n",
       "      <td>14.040</td>\n",
       "      <td>20.120</td>\n",
       "      <td>36.667568</td>\n",
       "      <td>1.280000</td>\n",
       "    </tr>\n",
       "    <tr>\n",
       "      <th>Ceftamin</th>\n",
       "      <td>30.600000</td>\n",
       "      <td>12.800</td>\n",
       "      <td>27.400</td>\n",
       "      <td>57.753977</td>\n",
       "      <td>1.720000</td>\n",
       "    </tr>\n",
       "    <tr>\n",
       "      <th>Infubinol</th>\n",
       "      <td>30.600000</td>\n",
       "      <td>16.400</td>\n",
       "      <td>27.320</td>\n",
       "      <td>58.178246</td>\n",
       "      <td>1.600000</td>\n",
       "    </tr>\n",
       "    <tr>\n",
       "      <th>Ketapril</th>\n",
       "      <td>32.600000</td>\n",
       "      <td>14.720</td>\n",
       "      <td>28.080</td>\n",
       "      <td>62.806191</td>\n",
       "      <td>1.920000</td>\n",
       "    </tr>\n",
       "    <tr>\n",
       "      <th>Naftisol</th>\n",
       "      <td>32.200000</td>\n",
       "      <td>12.240</td>\n",
       "      <td>27.240</td>\n",
       "      <td>61.205757</td>\n",
       "      <td>2.000000</td>\n",
       "    </tr>\n",
       "    <tr>\n",
       "      <th>Placebo</th>\n",
       "      <td>31.200000</td>\n",
       "      <td>10.680</td>\n",
       "      <td>28.040</td>\n",
       "      <td>60.508414</td>\n",
       "      <td>2.080000</td>\n",
       "    </tr>\n",
       "    <tr>\n",
       "      <th>Propriva</th>\n",
       "      <td>26.200000</td>\n",
       "      <td>9.880</td>\n",
       "      <td>27.240</td>\n",
       "      <td>56.736964</td>\n",
       "      <td>1.560000</td>\n",
       "    </tr>\n",
       "    <tr>\n",
       "      <th>Ramicane</th>\n",
       "      <td>40.600000</td>\n",
       "      <td>10.840</td>\n",
       "      <td>20.000</td>\n",
       "      <td>36.191390</td>\n",
       "      <td>1.200000</td>\n",
       "    </tr>\n",
       "    <tr>\n",
       "      <th>Stelasyn</th>\n",
       "      <td>32.708333</td>\n",
       "      <td>13.125</td>\n",
       "      <td>27.875</td>\n",
       "      <td>61.001707</td>\n",
       "      <td>1.458333</td>\n",
       "    </tr>\n",
       "    <tr>\n",
       "      <th>Zoniferol</th>\n",
       "      <td>31.400000</td>\n",
       "      <td>12.600</td>\n",
       "      <td>27.920</td>\n",
       "      <td>59.181258</td>\n",
       "      <td>2.000000</td>\n",
       "    </tr>\n",
       "  </tbody>\n",
       "</table>\n",
       "</div>"
      ],
      "text/plain": [
       "              Timepoint  Age_months  Weight (g)  Tumor Volume (mm3)  \\\n",
       "Drug Regimen                                                          \n",
       "Capomulin     41.000000      14.040      20.120           36.667568   \n",
       "Ceftamin      30.600000      12.800      27.400           57.753977   \n",
       "Infubinol     30.600000      16.400      27.320           58.178246   \n",
       "Ketapril      32.600000      14.720      28.080           62.806191   \n",
       "Naftisol      32.200000      12.240      27.240           61.205757   \n",
       "Placebo       31.200000      10.680      28.040           60.508414   \n",
       "Propriva      26.200000       9.880      27.240           56.736964   \n",
       "Ramicane      40.600000      10.840      20.000           36.191390   \n",
       "Stelasyn      32.708333      13.125      27.875           61.001707   \n",
       "Zoniferol     31.400000      12.600      27.920           59.181258   \n",
       "\n",
       "              Metastatic Sites  \n",
       "Drug Regimen                    \n",
       "Capomulin             1.280000  \n",
       "Ceftamin              1.720000  \n",
       "Infubinol             1.600000  \n",
       "Ketapril              1.920000  \n",
       "Naftisol              2.000000  \n",
       "Placebo               2.080000  \n",
       "Propriva              1.560000  \n",
       "Ramicane              1.200000  \n",
       "Stelasyn              1.458333  \n",
       "Zoniferol             2.000000  "
      ]
     },
     "execution_count": 37,
     "metadata": {},
     "output_type": "execute_result"
    }
   ],
   "source": [
    "# Calculate the final tumor volume of each mouse across four of the most promising treatment regimens.\n",
    "# Calculate the IQR and quantitatively determine if there are any potential outliers.\n",
    "\n",
    "# groups by mouse ID\n",
    "mouse_grouped = combined_df.groupby(\"Mouse ID\")\n",
    "# takes only the final timepoints for each mouse\n",
    "timepoint = mouse_grouped[\"Timepoint\"].max()\n",
    "# turns the timepoint series into a dataframe and resets the index so timepoint is a column\n",
    "timepoint_df = timepoint.to_frame().reset_index()\n",
    "# merges the timepoint df with the original df\n",
    "merge_df = pd.merge(timepoint_df, combined_df, on=[\"Mouse ID\", \"Timepoint\"], how = \"inner\")\n",
    "\n",
    "# groups data by drug and finds the mean\n",
    "final_tumor_sorted = merge_df.groupby(\"Drug Regimen\").mean()\n",
    "\n",
    "final_tumor_sorted\n",
    "# based on that data frame object, the 4 best drugs are Ramicane, Capomulin, Ceftamin, & Infubinol (they have the lowest average tumor volume)\n",
    "\n",
    "\n"
   ]
  },
  {
   "cell_type": "code",
   "execution_count": 35,
   "metadata": {},
   "outputs": [
    {
     "name": "stdout",
     "output_type": "stream",
     "text": [
      "Final Tumor Max for Ramicane: 45.22086888\n",
      "Final Tumor Min for Ramicane: 22.05012627\n",
      "Upper Outlier Boundary for Ramicane: 54.30681135\n",
      "Lower Outlier Boundary for Ramicane: 17.912664470000003\n",
      "No outliers present in this data set!\n"
     ]
    },
    {
     "data": {
      "text/html": [
       "<div>\n",
       "<style scoped>\n",
       "    .dataframe tbody tr th:only-of-type {\n",
       "        vertical-align: middle;\n",
       "    }\n",
       "\n",
       "    .dataframe tbody tr th {\n",
       "        vertical-align: top;\n",
       "    }\n",
       "\n",
       "    .dataframe thead th {\n",
       "        text-align: right;\n",
       "    }\n",
       "</style>\n",
       "<table border=\"1\" class=\"dataframe\">\n",
       "  <thead>\n",
       "    <tr style=\"text-align: right;\">\n",
       "      <th></th>\n",
       "      <th>Mouse ID</th>\n",
       "      <th>Timepoint</th>\n",
       "      <th>Sex</th>\n",
       "      <th>Age_months</th>\n",
       "      <th>Weight (g)</th>\n",
       "      <th>Tumor Volume (mm3)</th>\n",
       "      <th>Metastatic Sites</th>\n",
       "    </tr>\n",
       "    <tr>\n",
       "      <th>Drug Regimen</th>\n",
       "      <th></th>\n",
       "      <th></th>\n",
       "      <th></th>\n",
       "      <th></th>\n",
       "      <th></th>\n",
       "      <th></th>\n",
       "      <th></th>\n",
       "    </tr>\n",
       "  </thead>\n",
       "  <tbody>\n",
       "  </tbody>\n",
       "</table>\n",
       "</div>"
      ],
      "text/plain": [
       "Empty DataFrame\n",
       "Columns: [Mouse ID, Timepoint, Sex, Age_months, Weight (g), Tumor Volume (mm3), Metastatic Sites]\n",
       "Index: []"
      ]
     },
     "execution_count": 35,
     "metadata": {},
     "output_type": "execute_result"
    }
   ],
   "source": [
    "# sets index as the drug regimen\n",
    "cleaned_df = merge_df.set_index([\"Drug Regimen\"])\n",
    "cleaned_df\n",
    "\n",
    "# finds only data for Ramicane\n",
    "ramicane_df = cleaned_df.loc[\"Ramicane\", :]\n",
    "# takes only the tumor volume column\n",
    "ramicane_tumor_final = ramicane_df[\"Tumor Volume (mm3)\"]\n",
    "\n",
    "# separates ramicane data into 4 quartiles\n",
    "quartiles_ram = ramicane_tumor_final.quantile([.25,.5,.75])\n",
    "# finds the lower quartile\n",
    "lowerq_ram = quartiles_ram[0.25]\n",
    "# finds the upper quartile\n",
    "upperq_ram = quartiles_ram[0.75]\n",
    "# finds the interquartile range\n",
    "iqr_ram = upperq_ram - lowerq_ram\n",
    "# find the lower outlier bound\n",
    "lower_bound_ram = lowerq_ram - (1.5 * iqr_ram)\n",
    "# find the upper outlier bound\n",
    "upper_bound_ram = upperq_ram + (1.5 * iqr_ram)\n",
    "\n",
    "# prints out all the data found above, plus the max and min of the data set, to look for any outliers\n",
    "print(\"Final Tumor Max for Ramicane: \" + str(ramicane_tumor_final.max()))\n",
    "print(\"Final Tumor Min for Ramicane: \" + str(ramicane_tumor_final.min()))\n",
    "print(\"Upper Outlier Boundary for Ramicane: \" + str(upper_bound_ram))\n",
    "print(\"Lower Outlier Boundary for Ramicane: \" + str(lower_bound_ram))\n",
    "print(\"No outliers present in this data set!\")\n",
    "\n",
    "# if any outliers are prsent, this will display them in a dataframe\n",
    "outlier_ram_df = ramicane_df.loc[(ramicane_tumor_final > upper_bound_ram) | (ramicane_tumor_final < lower_bound_ram), :]\n",
    "outlier_ram_df\n"
   ]
  },
  {
   "cell_type": "code",
   "execution_count": 32,
   "metadata": {},
   "outputs": [
    {
     "name": "stdout",
     "output_type": "stream",
     "text": [
      "Final Tumor Max for Capomulin: 47.68596303\n",
      "Final Tumor Min for Capomulin: 23.34359787\n",
      "Upper Outlier Boundary for Capomulin: 51.83201549\n",
      "Lower Outlier Boundary for Capomulin: 20.70456164999999\n",
      "No outliers present in this data set!\n"
     ]
    },
    {
     "data": {
      "text/html": [
       "<div>\n",
       "<style scoped>\n",
       "    .dataframe tbody tr th:only-of-type {\n",
       "        vertical-align: middle;\n",
       "    }\n",
       "\n",
       "    .dataframe tbody tr th {\n",
       "        vertical-align: top;\n",
       "    }\n",
       "\n",
       "    .dataframe thead th {\n",
       "        text-align: right;\n",
       "    }\n",
       "</style>\n",
       "<table border=\"1\" class=\"dataframe\">\n",
       "  <thead>\n",
       "    <tr style=\"text-align: right;\">\n",
       "      <th></th>\n",
       "      <th>Mouse ID</th>\n",
       "      <th>Timepoint</th>\n",
       "      <th>Sex</th>\n",
       "      <th>Age_months</th>\n",
       "      <th>Weight (g)</th>\n",
       "      <th>Tumor Volume (mm3)</th>\n",
       "      <th>Metastatic Sites</th>\n",
       "    </tr>\n",
       "    <tr>\n",
       "      <th>Drug Regimen</th>\n",
       "      <th></th>\n",
       "      <th></th>\n",
       "      <th></th>\n",
       "      <th></th>\n",
       "      <th></th>\n",
       "      <th></th>\n",
       "      <th></th>\n",
       "    </tr>\n",
       "  </thead>\n",
       "  <tbody>\n",
       "  </tbody>\n",
       "</table>\n",
       "</div>"
      ],
      "text/plain": [
       "Empty DataFrame\n",
       "Columns: [Mouse ID, Timepoint, Sex, Age_months, Weight (g), Tumor Volume (mm3), Metastatic Sites]\n",
       "Index: []"
      ]
     },
     "execution_count": 32,
     "metadata": {},
     "output_type": "execute_result"
    }
   ],
   "source": [
    "# same process as Ramicane, but for Capomulin\n",
    "capomulin_df = cleaned_df.loc[\"Capomulin\", :]\n",
    "capomulin_tumor_final = capomulin_df[\"Tumor Volume (mm3)\"]\n",
    "\n",
    "# same process as Ramicane, but for Capomulin\n",
    "quartiles_cap = capomulin_tumor_final.quantile([.25,.5,.75])\n",
    "lowerq_cap = quartiles_cap[0.25]\n",
    "upperq_cap = quartiles_cap[0.75]\n",
    "iqr_cap = upperq_cap - lowerq_cap\n",
    "lower_bound_cap = lowerq_cap - (1.5 * iqr_cap)\n",
    "upper_bound_cap = upperq_cap + (1.5 * iqr_cap)\n",
    "\n",
    "print(\"Final Tumor Max for Capomulin: \" + str(capomulin_tumor_final.max()))\n",
    "print(\"Final Tumor Min for Capomulin: \" + str(capomulin_tumor_final.min()))\n",
    "print(\"Upper Outlier Boundary for Capomulin: \" + str(upper_bound_cap))\n",
    "print(\"Lower Outlier Boundary for Capomulin: \" + str(lower_bound_cap))\n",
    "print(\"No outliers present in this data set!\")\n",
    "\n",
    "outlier_cap_df = capomulin_df.loc[(capomulin_tumor_final > upper_bound_cap) | (capomulin_tumor_final < lower_bound_cap), :]\n",
    "outlier_cap_df\n"
   ]
  },
  {
   "cell_type": "code",
   "execution_count": 33,
   "metadata": {},
   "outputs": [
    {
     "name": "stdout",
     "output_type": "stream",
     "text": [
      "Final Tumor Max for Ceftamin: 68.92318457\n",
      "Final Tumor Min for Ceftamin: 45.0\n",
      "Upper Outlier Boundary for Ceftamin: 87.66645829999999\n",
      "Lower Outlier Boundary for Ceftamin: 25.355449580000002\n",
      "No outliers present in this data set!\n"
     ]
    },
    {
     "data": {
      "text/html": [
       "<div>\n",
       "<style scoped>\n",
       "    .dataframe tbody tr th:only-of-type {\n",
       "        vertical-align: middle;\n",
       "    }\n",
       "\n",
       "    .dataframe tbody tr th {\n",
       "        vertical-align: top;\n",
       "    }\n",
       "\n",
       "    .dataframe thead th {\n",
       "        text-align: right;\n",
       "    }\n",
       "</style>\n",
       "<table border=\"1\" class=\"dataframe\">\n",
       "  <thead>\n",
       "    <tr style=\"text-align: right;\">\n",
       "      <th></th>\n",
       "      <th>Mouse ID</th>\n",
       "      <th>Timepoint</th>\n",
       "      <th>Sex</th>\n",
       "      <th>Age_months</th>\n",
       "      <th>Weight (g)</th>\n",
       "      <th>Tumor Volume (mm3)</th>\n",
       "      <th>Metastatic Sites</th>\n",
       "    </tr>\n",
       "    <tr>\n",
       "      <th>Drug Regimen</th>\n",
       "      <th></th>\n",
       "      <th></th>\n",
       "      <th></th>\n",
       "      <th></th>\n",
       "      <th></th>\n",
       "      <th></th>\n",
       "      <th></th>\n",
       "    </tr>\n",
       "  </thead>\n",
       "  <tbody>\n",
       "  </tbody>\n",
       "</table>\n",
       "</div>"
      ],
      "text/plain": [
       "Empty DataFrame\n",
       "Columns: [Mouse ID, Timepoint, Sex, Age_months, Weight (g), Tumor Volume (mm3), Metastatic Sites]\n",
       "Index: []"
      ]
     },
     "execution_count": 33,
     "metadata": {},
     "output_type": "execute_result"
    }
   ],
   "source": [
    "# same process as Ramicane, but for Ceftamin\n",
    "ceftamin_df = cleaned_df.loc[\"Ceftamin\", :]\n",
    "ceftamin_tumor_final = ceftamin_df[\"Tumor Volume (mm3)\"]\n",
    "\n",
    "# same process as Ramicane, but for Ceftamin\n",
    "quartiles_cef = ceftamin_tumor_final.quantile([.25,.5,.75])\n",
    "lowerq_cef = quartiles_cef[0.25]\n",
    "upperq_cef = quartiles_cef[0.75]\n",
    "iqr_cef = upperq_cef - lowerq_cef\n",
    "lower_bound_cef = lowerq_cef - (1.5 * iqr_cef)\n",
    "upper_bound_cef = upperq_cef + (1.5 * iqr_cef)\n",
    "\n",
    "print(\"Final Tumor Max for Ceftamin: \" + str(ceftamin_tumor_final.max()))\n",
    "print(\"Final Tumor Min for Ceftamin: \" + str(ceftamin_tumor_final.min()))\n",
    "print(\"Upper Outlier Boundary for Ceftamin: \" + str(upper_bound_cef))\n",
    "print(\"Lower Outlier Boundary for Ceftamin: \" + str(lower_bound_cef))\n",
    "print(\"No outliers present in this data set!\")\n",
    "\n",
    "outlier_cef_df = ceftamin_df.loc[(ceftamin_tumor_final > upper_bound_cef) | (ceftamin_tumor_final < lower_bound_cef), :]\n",
    "outlier_cef_df\n"
   ]
  },
  {
   "cell_type": "code",
   "execution_count": 34,
   "metadata": {},
   "outputs": [
    {
     "name": "stdout",
     "output_type": "stream",
     "text": [
      "Final Tumor Max for Infubinol: 72.2267309\n",
      "Final Tumor Min for Infubinol: 36.321345799999996\n",
      "Upper Outlier Boundary for Infubinol: 82.74144559000001\n",
      "Lower Outlier Boundary for Infubinol: 36.83290494999999\n",
      "One outlier present- see dataframe below.\n"
     ]
    },
    {
     "data": {
      "text/html": [
       "<div>\n",
       "<style scoped>\n",
       "    .dataframe tbody tr th:only-of-type {\n",
       "        vertical-align: middle;\n",
       "    }\n",
       "\n",
       "    .dataframe tbody tr th {\n",
       "        vertical-align: top;\n",
       "    }\n",
       "\n",
       "    .dataframe thead th {\n",
       "        text-align: right;\n",
       "    }\n",
       "</style>\n",
       "<table border=\"1\" class=\"dataframe\">\n",
       "  <thead>\n",
       "    <tr style=\"text-align: right;\">\n",
       "      <th></th>\n",
       "      <th>Mouse ID</th>\n",
       "      <th>Timepoint</th>\n",
       "      <th>Sex</th>\n",
       "      <th>Age_months</th>\n",
       "      <th>Weight (g)</th>\n",
       "      <th>Tumor Volume (mm3)</th>\n",
       "      <th>Metastatic Sites</th>\n",
       "    </tr>\n",
       "    <tr>\n",
       "      <th>Drug Regimen</th>\n",
       "      <th></th>\n",
       "      <th></th>\n",
       "      <th></th>\n",
       "      <th></th>\n",
       "      <th></th>\n",
       "      <th></th>\n",
       "      <th></th>\n",
       "    </tr>\n",
       "  </thead>\n",
       "  <tbody>\n",
       "    <tr>\n",
       "      <th>Infubinol</th>\n",
       "      <td>c326</td>\n",
       "      <td>5</td>\n",
       "      <td>Female</td>\n",
       "      <td>18</td>\n",
       "      <td>25</td>\n",
       "      <td>36.321346</td>\n",
       "      <td>0</td>\n",
       "    </tr>\n",
       "  </tbody>\n",
       "</table>\n",
       "</div>"
      ],
      "text/plain": [
       "             Mouse ID  Timepoint     Sex  Age_months  Weight (g)  \\\n",
       "Drug Regimen                                                       \n",
       "Infubinol        c326          5  Female          18          25   \n",
       "\n",
       "              Tumor Volume (mm3)  Metastatic Sites  \n",
       "Drug Regimen                                        \n",
       "Infubinol              36.321346                 0  "
      ]
     },
     "execution_count": 34,
     "metadata": {},
     "output_type": "execute_result"
    }
   ],
   "source": [
    "# same process as Ramicane, but for Infubinol\n",
    "infubinol_df = cleaned_df.loc[\"Infubinol\", :]\n",
    "infubinol_tumor_final = infubinol_df[\"Tumor Volume (mm3)\"]\n",
    "\n",
    "# same process as Ramicane, but for Infubinol\n",
    "quartiles_inf = infubinol_tumor_final.quantile([.25,.5,.75])\n",
    "lowerq_inf = quartiles_inf[0.25]\n",
    "upperq_inf = quartiles_inf[0.75]\n",
    "iqr_inf = upperq_inf - lowerq_inf\n",
    "lower_bound_inf = lowerq_inf - (1.5 * iqr_inf)\n",
    "upper_bound_inf = upperq_inf + (1.5 * iqr_inf)\n",
    "\n",
    "print(\"Final Tumor Max for Infubinol: \" + str(infubinol_tumor_final.max()))\n",
    "print(\"Final Tumor Min for Infubinol: \" + str(infubinol_tumor_final.min()))\n",
    "print(\"Upper Outlier Boundary for Infubinol: \" + str(upper_bound_inf))\n",
    "print(\"Lower Outlier Boundary for Infubinol: \" + str(lower_bound_inf))\n",
    "print(\"One outlier present- see dataframe below.\")\n",
    "\n",
    "outlier_inf_df = infubinol_df.loc[(infubinol_tumor_final > upper_bound_inf) | (infubinol_tumor_final < lower_bound_inf), :]\n",
    "outlier_inf_df\n"
   ]
  },
  {
   "cell_type": "code",
   "execution_count": 10,
   "metadata": {},
   "outputs": [
    {
     "data": {
      "image/png": "[encoded data removed]",
      "text/plain": [
       "<Figure size 432x288 with 1 Axes>"
      ]
     },
     "metadata": {
      "needs_background": "light"
     },
     "output_type": "display_data"
    }
   ],
   "source": [
    "# Generate a box plot of the final tumor volume of each mouse across four regimens of interest\n",
    "\n",
    "flierprops = dict(marker='o', markerfacecolor='red', markeredgecolor='black', markersize=12, linestyle='none')\n",
    "\n",
    "fig, ax = plt.subplots()\n",
    "# plots box plot of data from previous cell\n",
    "ax.boxplot([capomulin_tumor_final, ramicane_tumor_final, infubinol_tumor_final, ceftamin_tumor_final], flierprops=flierprops)\n",
    "# sets x-tick values\n",
    "ax.set_xticklabels(['Capomulin', 'Ramicane', 'Infubinol', 'Ceftamin'])\n",
    "# sets title\n",
    "ax.set_title('Final Tumor Volumes in Mice Across the 4 Most Promising Drug Regimens')\n",
    "# sets x-axis label\n",
    "ax.set_xlabel('Drug')\n",
    "# sets y-axis label\n",
    "ax.set_ylabel('Final Tumor Volume (mm3)')\n",
    "plt.show()\n"
   ]
  },
  {
   "cell_type": "markdown",
   "metadata": {},
   "source": [
    "## Line and scatter plots"
   ]
  },
  {
   "cell_type": "code",
   "execution_count": 11,
   "metadata": {},
   "outputs": [
    {
     "data": {
      "image/png": "[encoded data removed]",
      "text/plain": [
       "<Figure size 432x288 with 1 Axes>"
      ]
     },
     "metadata": {
      "needs_background": "light"
     },
     "output_type": "display_data"
    }
   ],
   "source": [
    "# Generate a line plot of time point versus tumor volume for a mouse treated with Capomulin\n",
    "drug = \"Capomulin\"\n",
    "mouse = \"l509\"\n",
    "\n",
    "# sets index to drug regimen and mouse id\n",
    "cleaned_df = combined_df.set_index([\"Drug Regimen\", \"Mouse ID\"])\n",
    "\n",
    "# finds data only with with Capomulin and mouse 1509\n",
    "one_drug = cleaned_df.loc[drug, mouse, :]\n",
    "\n",
    "# takes only the timepoint and tumor volume columns\n",
    "one_drug = one_drug[[\"Timepoint\", \"Tumor Volume (mm3)\"]]\n",
    "\n",
    "# sets index to timepoint\n",
    "one_drug = one_drug.set_index(\"Timepoint\")\n",
    "\n",
    "# takes the column names\n",
    "tumor_vol = one_drug.keys()\n",
    "\n",
    "# plot line graph with above data\n",
    "drug_plot = one_drug.plot(y=tumor_vol[0], title=\"Timepoint vs. Tumor Volume for Mouse \" + mouse + \" Treated with Capomulin\")\n",
    "# sets y axis label\n",
    "drug_plot.set_ylabel(\"Tumor Volume (mm3)\")\n",
    "plt.show()\n"
   ]
  },
  {
   "cell_type": "code",
   "execution_count": 30,
   "metadata": {},
   "outputs": [
    {
     "data": {
      "image/png": "[encoded data removed]",
      "text/plain": [
       "<Figure size 432x288 with 1 Axes>"
      ]
     },
     "metadata": {
      "needs_background": "light"
     },
     "output_type": "display_data"
    }
   ],
   "source": [
    "# Generate a scatter plot of mouse weight versus average tumor volume for the Capomulin regimen\n",
    "\n",
    "# sets index to drug regimen\n",
    "cleaned_df2 = combined_df.set_index([\"Drug Regimen\"])\n",
    "\n",
    "drug = \"Capomulin\"\n",
    "\n",
    "# finds data only with with Capomulin\n",
    "one_drug2 = cleaned_df2.loc[drug, :]\n",
    "\n",
    "# groups by mouse id and finds the mean of each column\n",
    "mouseid_means = one_drug2.groupby(\"Mouse ID\").mean()\n",
    "\n",
    "# stores the values of the average tumor volumes\n",
    "avg_tumor_vol = mouseid_means[\"Tumor Volume (mm3)\"]\n",
    "\n",
    "# stores the values of the average weight of each mouse (because their weight doesn't change, the average is the same thing)\n",
    "weights = mouseid_means[\"Weight (g)\"]\n",
    "\n",
    "# plots scatter plot of above data\n",
    "plt.scatter(weights, avg_tumor_vol, marker=\"o\", facecolors=\"blue\", edgecolors=\"black\")\n",
    "# sets title\n",
    "plt.title(\"Mouse Weight vs. Average Tumor Volume for Mice Treated with Capomulin\")\n",
    "# sets x-axis label\n",
    "plt.xlabel(\"Mouse Weight (g)\")\n",
    "# sets y-axis label\n",
    "plt.ylabel(\"Average Tumor Volume (mm3)\")\n",
    "# sets range for x-axis\n",
    "plt.xlim(14,26)\n",
    "# sets range for y-axis\n",
    "plt.ylim(32,47)\n",
    "plt.show()\n"
   ]
  },
  {
   "cell_type": "code",
   "execution_count": 29,
   "metadata": {},
   "outputs": [
    {
     "name": "stdout",
     "output_type": "stream",
     "text": [
      "The correlation coefficient/r-squared value is: 0.7088568047708717\n"
     ]
    },
    {
     "data": {
      "image/png": "[encoded data removed]",
      "text/plain": [
       "<Figure size 432x288 with 1 Axes>"
      ]
     },
     "metadata": {
      "needs_background": "light"
     },
     "output_type": "display_data"
    }
   ],
   "source": [
    "# Calculate the correlation coefficient and linear regression model for mouse weight and average tumor volume for the Capomulin regimen\n",
    "\n",
    "# stores values in variables\n",
    "(slope, intercept, rvalue, pvalue, stderr) = linregress(weights, avg_tumor_vol)\n",
    "#stores regression line\n",
    "regress_values = weights * slope + intercept\n",
    "# creates the formula of the line that will appear\n",
    "line_eq = \"y = \" + str(round(slope,2)) + \"x + \" + str(round(intercept,2))\n",
    "# plots points\n",
    "plt.scatter(weights, avg_tumor_vol, marker=\"o\", facecolors=\"blue\", edgecolors=\"black\")\n",
    "# plots regression line\n",
    "plt.plot(weights,regress_values,\"r-\")\n",
    "# makes the formula appear\n",
    "plt.annotate(line_eq,(22,40),fontsize=15,color=\"red\")\n",
    "# prints the formula of the line\n",
    "print(f\"The correlation coefficient/r-squared value is: {rvalue**2}\")\n",
    "# sets the title\n",
    "plt.title(\"Mouse Weight vs. Average Tumor Volume for Mice Treated with Capomulin\")\n",
    "# sets x-axis label\n",
    "plt.xlabel(\"Mouse Weight (g)\")\n",
    "# sets y-axis label\n",
    "plt.ylabel(\"Average Tumor Volume (mm3)\")\n",
    "# sets range for x-axis\n",
    "plt.xlim(14,26)\n",
    "# sets range for y-axis\n",
    "plt.ylim(32,48)\n",
    "plt.show()\n"
   ]
  },
  {
   "cell_type": "code",
   "execution_count": null,
   "metadata": {},
   "outputs": [],
   "source": []
  }
 ],
 "metadata": {
  "anaconda-cloud": {},
  "kernelspec": {
   "display_name": "Python 3",
   "language": "python",
   "name": "python3"
  },
  "language_info": {
   "codemirror_mode": {
    "name": "ipython",
    "version": 3
   },
   "file_extension": ".py",
   "mimetype": "text/x-python",
   "name": "python",
   "nbconvert_exporter": "python",
   "pygments_lexer": "ipython3",
   "version": "3.6.10"
  }
 },
 "nbformat": 4,
 "nbformat_minor": 2
}
